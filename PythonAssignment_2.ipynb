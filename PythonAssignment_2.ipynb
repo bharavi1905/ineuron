{
 "cells": [
  {
   "cell_type": "markdown",
   "id": "joint-circle",
   "metadata": {},
   "source": [
    "# PythonAssignment_2"
   ]
  },
  {
   "cell_type": "markdown",
   "id": "identified-essence",
   "metadata": {},
   "source": [
    "## 1. Create the below pattern using nested for loop in Python. \n",
    "    * \n",
    "    * * \n",
    "    * * * \n",
    "    * * * * \n",
    "    * * * * * \n",
    "    * * * * \n",
    "    * * * \n",
    "    * * \n",
    "    * \n"
   ]
  },
  {
   "cell_type": "code",
   "execution_count": 3,
   "id": "transsexual-fishing",
   "metadata": {},
   "outputs": [
    {
     "name": "stdout",
     "output_type": "stream",
     "text": [
      "* \n",
      "* * \n",
      "* * * \n",
      "* * * * \n",
      "* * * * * \n",
      "* * * * \n",
      "* * * \n",
      "* * \n",
      "* \n"
     ]
    }
   ],
   "source": [
    "for i in range(1,6):\n",
    "    print('* '*i)\n",
    "    if i==5:\n",
    "        for j in range(4,0,-1):\n",
    "            print('* '*j)"
   ]
  },
  {
   "cell_type": "markdown",
   "id": "accepted-ordinance",
   "metadata": {},
   "source": [
    "## 2. Write a Python program to reverse a word after accepting the input from the user. "
   ]
  },
  {
   "cell_type": "code",
   "execution_count": null,
   "id": "awful-judge",
   "metadata": {},
   "outputs": [],
   "source": [
    "user_input = input('Enter any word : ')\n",
    "print(user_input[::])"
   ]
  }
 ],
 "metadata": {
  "kernelspec": {
   "display_name": "dsfs",
   "language": "python",
   "name": "dsfs"
  },
  "language_info": {
   "codemirror_mode": {
    "name": "ipython",
    "version": 3
   },
   "file_extension": ".py",
   "mimetype": "text/x-python",
   "name": "python",
   "nbconvert_exporter": "python",
   "pygments_lexer": "ipython3",
   "version": "3.7.7"
  }
 },
 "nbformat": 4,
 "nbformat_minor": 5
}
