{
 "cells": [
  {
   "cell_type": "markdown",
   "id": "narrow-lover",
   "metadata": {},
   "source": [
    "# PythonAssignment_3"
   ]
  },
  {
   "cell_type": "markdown",
   "id": "preliminary-republic",
   "metadata": {},
   "source": [
    "## 1.1 Write a Python Program to implement your own myreduce() function which works exactly  like Python's built-in function reduce()"
   ]
  },
  {
   "cell_type": "code",
   "execution_count": 1,
   "id": "complex-beaver",
   "metadata": {},
   "outputs": [],
   "source": [
    "def myreduce(func, iterable):\n",
    "    res = iterable[0]\n",
    "    for i in iterable[1:]:\n",
    "        res = func(res,i) \n",
    "    return res"
   ]
  },
  {
   "cell_type": "code",
   "execution_count": 3,
   "id": "bound-literacy",
   "metadata": {},
   "outputs": [
    {
     "data": {
      "text/plain": [
       "4.515625"
      ]
     },
     "execution_count": 3,
     "metadata": {},
     "output_type": "execute_result"
    }
   ],
   "source": [
    "arr = [2, 5, 7, 3, 6, 5, 4]\n",
    "myreduce(lambda x,y:(x+y)/2, arr)"
   ]
  },
  {
   "cell_type": "markdown",
   "id": "infrared-anchor",
   "metadata": {},
   "source": [
    "## 1.2 Write a Python program to implement your own myfilter() function which works exactly  like Python's built-in function filter() \n"
   ]
  },
  {
   "cell_type": "code",
   "execution_count": 4,
   "id": "portable-orientation",
   "metadata": {},
   "outputs": [],
   "source": [
    "def myfilter(func, iterable):\n",
    "    res = []\n",
    "    for i in iterable:\n",
    "        if func(i):\n",
    "            res.append(i)\n",
    "    return res"
   ]
  },
  {
   "cell_type": "code",
   "execution_count": 9,
   "id": "scheduled-rugby",
   "metadata": {},
   "outputs": [
    {
     "name": "stdout",
     "output_type": "stream",
     "text": [
      "leapYears: [2012, 2016, 2020]\n"
     ]
    }
   ],
   "source": [
    "arr_1 = [2010,2012,2014,2016,2018,2020]\n",
    "print('leapYears:', myfilter(lambda x: x%4==0, arr_1))         "
   ]
  },
  {
   "cell_type": "markdown",
   "id": "earned-finnish",
   "metadata": {},
   "source": [
    "# 2. Implement List comprehensions to produce the following lists.  \n",
    "\n"
   ]
  },
  {
   "cell_type": "code",
   "execution_count": 10,
   "id": "lightweight-yemen",
   "metadata": {},
   "outputs": [
    {
     "name": "stdout",
     "output_type": "stream",
     "text": [
      "['x', 'xx', 'xxx', 'xxxx', 'y', 'yy', 'yyy', 'yyyy', 'z', 'zz', 'zzz', 'zzzz']\n"
     ]
    }
   ],
   "source": [
    "#['x', 'xx', 'xxx', 'xxxx', 'y', 'yy', 'yyy', 'yyyy', 'z', 'zz', 'zzz', 'zzzz']  \n",
    "\n",
    "arr = ['x','y','z']\n",
    "print([i*j for i in arr for j in range(1,5)])"
   ]
  },
  {
   "cell_type": "code",
   "execution_count": 11,
   "id": "developing-cinema",
   "metadata": {},
   "outputs": [
    {
     "name": "stdout",
     "output_type": "stream",
     "text": [
      "['x', 'y', 'z', 'xx', 'yy', 'zz', 'xxx', 'yyy', 'zzz', 'xxxx', 'yyyy', 'zzzz']\n"
     ]
    }
   ],
   "source": [
    "#['x', 'y', 'z', 'xx', 'yy', 'zz', 'xxx', 'yyy', 'zzz', 'xxxx', 'yyyy', 'zzzz'] \n",
    "\n",
    "arr = ['x', 'y', 'z']\n",
    "print([i*j for j in range(1,5) for i in arr])"
   ]
  },
  {
   "cell_type": "code",
   "execution_count": 12,
   "id": "narrow-result",
   "metadata": {},
   "outputs": [
    {
     "name": "stdout",
     "output_type": "stream",
     "text": [
      "[[2], [3], [4], [3], [4], [5], [4], [5], [6]]\n"
     ]
    }
   ],
   "source": [
    "#[[2], [3], [4], [3], [4], [5], [4], [5], [6]]\n",
    "\n",
    "nums = [2,3,4]\n",
    "print([[i+j] for i in nums for j in range(0,3)])"
   ]
  },
  {
   "cell_type": "code",
   "execution_count": 14,
   "id": "iraqi-complexity",
   "metadata": {},
   "outputs": [
    {
     "name": "stdout",
     "output_type": "stream",
     "text": [
      "[[2, 3, 4, 5], [3, 4, 5, 6], [4, 5, 6, 7], [5, 6, 7, 8]]\n"
     ]
    }
   ],
   "source": [
    "#[[2, 3, 4, 5], [3, 4, 5, 6], [4, 5, 6, 7], [5, 6, 7, 8]]\n",
    "\n",
    "nums = [2,3,4,5]\n",
    "print([[i+j for i in nums] for j in range(0,4)])"
   ]
  },
  {
   "cell_type": "code",
   "execution_count": 16,
   "id": "appointed-summary",
   "metadata": {},
   "outputs": [
    {
     "name": "stdout",
     "output_type": "stream",
     "text": [
      "[(1, 1), (2, 1), (3, 1), (1, 2), (2, 2), (3, 2), (1, 3), (2, 3), (3, 3)]\n"
     ]
    }
   ],
   "source": [
    "#[(1, 1), (2, 1), (3, 1), (1, 2), (2, 2), (3, 2), (1, 3), (2, 3), (3, 3)]\n",
    "\n",
    "nums = [1,2,3]\n",
    "print([(j,i) for i in nums for j in nums])"
   ]
  },
  {
   "cell_type": "code",
   "execution_count": null,
   "id": "included-eagle",
   "metadata": {},
   "outputs": [],
   "source": []
  }
 ],
 "metadata": {
  "kernelspec": {
   "display_name": "dsfs",
   "language": "python",
   "name": "dsfs"
  },
  "language_info": {
   "codemirror_mode": {
    "name": "ipython",
    "version": 3
   },
   "file_extension": ".py",
   "mimetype": "text/x-python",
   "name": "python",
   "nbconvert_exporter": "python",
   "pygments_lexer": "ipython3",
   "version": "3.7.7"
  }
 },
 "nbformat": 4,
 "nbformat_minor": 5
}
