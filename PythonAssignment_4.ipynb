{
 "cells": [
  {
   "cell_type": "markdown",
   "id": "anticipated-arctic",
   "metadata": {},
   "source": [
    "# PythonAssignment_4"
   ]
  },
  {
   "cell_type": "markdown",
   "id": "mental-albert",
   "metadata": {},
   "source": [
    "# 1.1 Write a Python Program(with class concepts) to find the area of the triangle using the below  formula. \n",
    "\n"
   ]
  },
  {
   "cell_type": "code",
   "execution_count": 3,
   "id": "eligible-kazakhstan",
   "metadata": {},
   "outputs": [],
   "source": [
    "#area = (s*(s-a)*(s-b)*(s-c)) ** 0.5 \n",
    "#Function to take the length of the sides of triangle from user should be ##defined in the parent  class and function to calculate the area should be defined in subclass.\n",
    "\n",
    "class triangle:\n",
    "    def __init__(self, a, b, c):\n",
    "        self.a = a\n",
    "        self.b = b\n",
    "        self.c = c\n",
    "        self.s = (self.a+self.b+self.c)/2\n",
    "\n",
    "class triarea(triangle):\n",
    "    def __init__(self, *args):\n",
    "        super(triarea, self).__init__(*args)\n",
    "        \n",
    "    def __str__(self):\n",
    "        return 'Area of triangle is {}'.format(((self.s*(self.s-self.a)\\\n",
    "                                                 *(self.s-self.b)*\\\n",
    "                                                 (self.s-self.c))**0.5))"
   ]
  },
  {
   "cell_type": "code",
   "execution_count": 8,
   "id": "rotary-breath",
   "metadata": {},
   "outputs": [
    {
     "data": {
      "text/plain": [
       "<__main__.triarea at 0x1965bfbea08>"
      ]
     },
     "execution_count": 8,
     "metadata": {},
     "output_type": "execute_result"
    }
   ],
   "source": [
    "area = triarea(3,4,5)\n",
    "area"
   ]
  },
  {
   "cell_type": "code",
   "execution_count": 9,
   "id": "atmospheric-given",
   "metadata": {},
   "outputs": [
    {
     "name": "stdout",
     "output_type": "stream",
     "text": [
      "Area of triangle is 6.0\n"
     ]
    }
   ],
   "source": [
    "print(area)"
   ]
  },
  {
   "cell_type": "markdown",
   "id": "latin-summer",
   "metadata": {},
   "source": [
    "# 1.2 Write a function filter_long_words() that takes a list of words and an integer n and returns  the list of words that are longer than n."
   ]
  },
  {
   "cell_type": "code",
   "execution_count": 10,
   "id": "earlier-label",
   "metadata": {},
   "outputs": [],
   "source": [
    "def filter_long_words(words, n):\n",
    "    words = words.split(' ')\n",
    "    return [i for i in words if len(i)>n]\n"
   ]
  },
  {
   "cell_type": "code",
   "execution_count": 11,
   "id": "atmospheric-immune",
   "metadata": {},
   "outputs": [
    {
     "name": "stdout",
     "output_type": "stream",
     "text": [
      "Enter list of words: research shows how algorithms used by netflix can predict cancer\n",
      "Enter max length to be allowed: 5\n"
     ]
    },
    {
     "data": {
      "text/plain": [
       "['research', 'algorithms', 'netflix', 'predict', 'cancer']"
      ]
     },
     "execution_count": 11,
     "metadata": {},
     "output_type": "execute_result"
    }
   ],
   "source": [
    "words = input('Enter list of words: ')\n",
    "n = int(input('Enter max length to be allowed: '))\n",
    "filter_long_words(words, n)"
   ]
  },
  {
   "cell_type": "markdown",
   "id": "patient-effects",
   "metadata": {},
   "source": [
    "# 2.1 Write a Python program using function concept that maps list of words into a list of integers  representing the lengths of the corresponding words."
   ]
  },
  {
   "cell_type": "code",
   "execution_count": 14,
   "id": "mediterranean-samba",
   "metadata": {},
   "outputs": [
    {
     "name": "stdout",
     "output_type": "stream",
     "text": [
      "Enter words: zack snyder is better with netflix than returning to WB\n"
     ]
    },
    {
     "data": {
      "text/plain": [
       "[4, 6, 2, 6, 4, 7, 4, 9, 2, 2]"
      ]
     },
     "execution_count": 14,
     "metadata": {},
     "output_type": "execute_result"
    }
   ],
   "source": [
    "def length_of_words(array):\n",
    "    return [len(i) for i in array]\n",
    "\n",
    "arr = input('Enter words: ')\n",
    "arr = arr.split(' ')\n",
    "length_of_words(arr)"
   ]
  },
  {
   "cell_type": "markdown",
   "id": "alpha-floor",
   "metadata": {},
   "source": [
    "# 2.2 Write a Python function which takes a character (i.e. a string of length 1) and returns True if  it is a vowel, False otherwise. "
   ]
  },
  {
   "cell_type": "code",
   "execution_count": 15,
   "id": "close-trademark",
   "metadata": {},
   "outputs": [
    {
     "name": "stdout",
     "output_type": "stream",
     "text": [
      "True\n",
      "False\n"
     ]
    }
   ],
   "source": [
    "def is_vowel(s):\n",
    "    vowels = 'aeiou'\n",
    "    return s in vowels\n",
    "\n",
    "print(is_vowel('a'))\n",
    "print(is_vowel('b'))"
   ]
  },
  {
   "cell_type": "code",
   "execution_count": null,
   "id": "mathematical-embassy",
   "metadata": {},
   "outputs": [],
   "source": []
  }
 ],
 "metadata": {
  "kernelspec": {
   "display_name": "dsfs",
   "language": "python",
   "name": "dsfs"
  },
  "language_info": {
   "codemirror_mode": {
    "name": "ipython",
    "version": 3
   },
   "file_extension": ".py",
   "mimetype": "text/x-python",
   "name": "python",
   "nbconvert_exporter": "python",
   "pygments_lexer": "ipython3",
   "version": "3.7.7"
  }
 },
 "nbformat": 4,
 "nbformat_minor": 5
}
